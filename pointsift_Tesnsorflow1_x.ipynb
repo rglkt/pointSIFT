{
  "nbformat": 4,
  "nbformat_minor": 0,
  "metadata": {
    "colab": {
      "name": "pointsift Tesnsorflow1.x",
      "provenance": [],
      "collapsed_sections": []
    },
    "kernelspec": {
      "name": "python3",
      "display_name": "Python 3"
    },
    "language_info": {
      "name": "python"
    },
    "accelerator": "GPU"
  },
  "cells": [
    {
      "cell_type": "code",
      "metadata": {
        "colab": {
          "base_uri": "https://localhost:8080/"
        },
        "id": "9XndpYmdpZ8Q",
        "outputId": "530033e7-929e-4453-dcd0-458d610e93e8"
      },
      "source": [
        "%tensorflow_version 1.x"
      ],
      "execution_count": 3,
      "outputs": [
        {
          "output_type": "stream",
          "name": "stdout",
          "text": [
            "TensorFlow 1.x selected.\n"
          ]
        }
      ]
    },
    {
      "cell_type": "code",
      "metadata": {
        "colab": {
          "base_uri": "https://localhost:8080/"
        },
        "id": "K_fN07kwp-Ri",
        "outputId": "072b2e53-808f-4c30-edb6-df8508209e37"
      },
      "source": [
        "!git clone https://github.com/MVIG-SJTU/pointSIFT"
      ],
      "execution_count": 4,
      "outputs": [
        {
          "output_type": "stream",
          "name": "stdout",
          "text": [
            "Cloning into 'pointSIFT'...\n",
            "remote: Enumerating objects: 65, done.\u001b[K\n",
            "remote: Total 65 (delta 0), reused 0 (delta 0), pack-reused 65\u001b[K\n",
            "Unpacking objects: 100% (65/65), done.\n"
          ]
        }
      ]
    },
    {
      "cell_type": "code",
      "metadata": {
        "id": "KCADeBfIqOAi"
      },
      "source": [
        "!TF_INC=$(python -c 'import tensorflow as tf; print(tf.sysconfig.get_include())')\n",
        "!TF_LIB=$(python -c 'import tensorflow as tf; print(tf.sysconfig.get_lib())')"
      ],
      "execution_count": 5,
      "outputs": []
    },
    {
      "cell_type": "code",
      "metadata": {
        "colab": {
          "base_uri": "https://localhost:8080/"
        },
        "id": "MXMXQ4SRqSDk",
        "outputId": "d304f4ee-1240-4e07-99b3-4fdc3fc8bc9b"
      },
      "source": [
        "import tensorflow as tf\n",
        "# include path\n",
        "print(tf.sysconfig.get_include())\n",
        "# library path \n",
        "print(tf.sysconfig.get_lib())"
      ],
      "execution_count": 6,
      "outputs": [
        {
          "output_type": "stream",
          "name": "stdout",
          "text": [
            "/tensorflow-1.15.2/python3.7/tensorflow_core/include\n",
            "/tensorflow-1.15.2/python3.7/tensorflow_core\n"
          ]
        }
      ]
    },
    {
      "cell_type": "code",
      "metadata": {
        "colab": {
          "base_uri": "https://localhost:8080/"
        },
        "id": "9gIibLxmxaIC",
        "outputId": "30eaabc0-5647-4299-ceb9-dc885c51773c"
      },
      "source": [
        "%cd /tensorflow-1.15.2/python3.7/tensorflow_core\n",
        "!cp libtensorflow_framework.so.1 libtensorflow_framework.so\n",
        "!ls"
      ],
      "execution_count": 9,
      "outputs": [
        {
          "output_type": "stream",
          "name": "stdout",
          "text": [
            "/tensorflow-1.15.2/python3.7/tensorflow_core\n",
            "_api\t  core\t    __init__.py\t\t\t  lite\t       tools\n",
            "compiler  examples  libtensorflow_framework.so\t  __pycache__\n",
            "contrib   include   libtensorflow_framework.so.1  python\n"
          ]
        }
      ]
    },
    {
      "cell_type": "code",
      "metadata": {
        "id": "5F1rhZDGw2FX"
      },
      "source": [
        "!export LD_LIBRARY_PATH=$LD_LIBRARY_PATH:\"/tensorflow-1.15.2/python3.7/tensorflow_core/libtensorflow_framework.so\""
      ],
      "execution_count": 7,
      "outputs": []
    },
    {
      "cell_type": "code",
      "metadata": {
        "colab": {
          "base_uri": "https://localhost:8080/"
        },
        "id": "nDAzYUc2qWEG",
        "outputId": "ee0c038a-2629-491d-8a75-7a18f5739b3d"
      },
      "source": [
        "%cd /content/pointSIFT/tf_utils/tf_ops/pointSIFT_op\n",
        "!sh /content/pointSIFT/tf_utils/tf_ops/pointSIFT_op/tf_pointSIFT_compile.sh"
      ],
      "execution_count": 8,
      "outputs": [
        {
          "output_type": "stream",
          "name": "stdout",
          "text": [
            "/content/pointSIFT/tf_utils/tf_ops/pointSIFT_op\n",
            "\u001b[01m\u001b[Kmain.cpp:\u001b[m\u001b[K In lambda function:\n",
            "\u001b[01m\u001b[Kmain.cpp:22:48:\u001b[m\u001b[K \u001b[01;35m\u001b[Kwarning: \u001b[m\u001b[Kignoring return value of ‘\u001b[01m\u001b[Ktensorflow::Status tensorflow::shape_inference::InferenceContext::WithRank(tensorflow::shape_inference::ShapeHandle, tensorflow::int64, tensorflow::shape_inference::ShapeHandle*)\u001b[m\u001b[K’, declared with attribute warn_unused_result [\u001b[01;35m\u001b[K-Wunused-result\u001b[m\u001b[K]\n",
            "             c->WithRank(c->input(0), 3, &dims1)\u001b[01;35m\u001b[K;\u001b[m\u001b[K\n",
            "                                                \u001b[01;35m\u001b[K^\u001b[m\u001b[K\n",
            "In file included from \u001b[01m\u001b[Kmain.cpp:8:0\u001b[m\u001b[K:\n",
            "\u001b[01m\u001b[K/tensorflow-1.15.2/python3.7/tensorflow_core/include/tensorflow/core/framework/shape_inference.h:394:10:\u001b[m\u001b[K \u001b[01;36m\u001b[Knote: \u001b[m\u001b[Kdeclared here\n",
            "   Status \u001b[01;36m\u001b[KWithRank\u001b[m\u001b[K(ShapeHandle shape, int64 rank,\n",
            "          \u001b[01;36m\u001b[K^~~~~~~~\u001b[m\u001b[K\n",
            "\u001b[01m\u001b[Kmain.cpp:24:48:\u001b[m\u001b[K \u001b[01;35m\u001b[Kwarning: \u001b[m\u001b[Kignoring return value of ‘\u001b[01m\u001b[Ktensorflow::Status tensorflow::shape_inference::InferenceContext::WithRank(tensorflow::shape_inference::ShapeHandle, tensorflow::int64, tensorflow::shape_inference::ShapeHandle*)\u001b[m\u001b[K’, declared with attribute warn_unused_result [\u001b[01;35m\u001b[K-Wunused-result\u001b[m\u001b[K]\n",
            "             c->WithRank(c->input(1), 3, &dims2)\u001b[01;35m\u001b[K;\u001b[m\u001b[K\n",
            "                                                \u001b[01;35m\u001b[K^\u001b[m\u001b[K\n",
            "In file included from \u001b[01m\u001b[Kmain.cpp:8:0\u001b[m\u001b[K:\n",
            "\u001b[01m\u001b[K/tensorflow-1.15.2/python3.7/tensorflow_core/include/tensorflow/core/framework/shape_inference.h:394:10:\u001b[m\u001b[K \u001b[01;36m\u001b[Knote: \u001b[m\u001b[Kdeclared here\n",
            "   Status \u001b[01;36m\u001b[KWithRank\u001b[m\u001b[K(ShapeHandle shape, int64 rank,\n",
            "          \u001b[01;36m\u001b[K^~~~~~~~\u001b[m\u001b[K\n",
            "\u001b[01m\u001b[Kmain.cpp:\u001b[m\u001b[K In lambda function:\n",
            "\u001b[01m\u001b[Kmain.cpp:35:47:\u001b[m\u001b[K \u001b[01;35m\u001b[Kwarning: \u001b[m\u001b[Kignoring return value of ‘\u001b[01m\u001b[Ktensorflow::Status tensorflow::shape_inference::InferenceContext::WithRank(tensorflow::shape_inference::ShapeHandle, tensorflow::int64, tensorflow::shape_inference::ShapeHandle*)\u001b[m\u001b[K’, declared with attribute warn_unused_result [\u001b[01;35m\u001b[K-Wunused-result\u001b[m\u001b[K]\n",
            "             c->WithRank(c->input(0), 3, &dim1)\u001b[01;35m\u001b[K;\u001b[m\u001b[K // batch_size * npoint * 3\n",
            "                                               \u001b[01;35m\u001b[K^\u001b[m\u001b[K\n",
            "In file included from \u001b[01m\u001b[Kmain.cpp:8:0\u001b[m\u001b[K:\n",
            "\u001b[01m\u001b[K/tensorflow-1.15.2/python3.7/tensorflow_core/include/tensorflow/core/framework/shape_inference.h:394:10:\u001b[m\u001b[K \u001b[01;36m\u001b[Knote: \u001b[m\u001b[Kdeclared here\n",
            "   Status \u001b[01;36m\u001b[KWithRank\u001b[m\u001b[K(ShapeHandle shape, int64 rank,\n",
            "          \u001b[01;36m\u001b[K^~~~~~~~\u001b[m\u001b[K\n",
            "\u001b[01m\u001b[Kmain.cpp:\u001b[m\u001b[K In lambda function:\n",
            "\u001b[01m\u001b[Kmain.cpp:46:47:\u001b[m\u001b[K \u001b[01;35m\u001b[Kwarning: \u001b[m\u001b[Kignoring return value of ‘\u001b[01m\u001b[Ktensorflow::Status tensorflow::shape_inference::InferenceContext::WithRank(tensorflow::shape_inference::ShapeHandle, tensorflow::int64, tensorflow::shape_inference::ShapeHandle*)\u001b[m\u001b[K’, declared with attribute warn_unused_result [\u001b[01;35m\u001b[K-Wunused-result\u001b[m\u001b[K]\n",
            "             c->WithRank(c->input(0), 3, &dim1)\u001b[01;35m\u001b[K;\u001b[m\u001b[K // batch_size * npoint * 3\n",
            "                                               \u001b[01;35m\u001b[K^\u001b[m\u001b[K\n",
            "In file included from \u001b[01m\u001b[Kmain.cpp:8:0\u001b[m\u001b[K:\n",
            "\u001b[01m\u001b[K/tensorflow-1.15.2/python3.7/tensorflow_core/include/tensorflow/core/framework/shape_inference.h:394:10:\u001b[m\u001b[K \u001b[01;36m\u001b[Knote: \u001b[m\u001b[Kdeclared here\n",
            "   Status \u001b[01;36m\u001b[KWithRank\u001b[m\u001b[K(ShapeHandle shape, int64 rank,\n",
            "          \u001b[01;36m\u001b[K^~~~~~~~\u001b[m\u001b[K\n",
            "\u001b[01m\u001b[Kmain.cpp:\u001b[m\u001b[K In lambda function:\n",
            "\u001b[01m\u001b[Kmain.cpp:57:47:\u001b[m\u001b[K \u001b[01;35m\u001b[Kwarning: \u001b[m\u001b[Kignoring return value of ‘\u001b[01m\u001b[Ktensorflow::Status tensorflow::shape_inference::InferenceContext::WithRank(tensorflow::shape_inference::ShapeHandle, tensorflow::int64, tensorflow::shape_inference::ShapeHandle*)\u001b[m\u001b[K’, declared with attribute warn_unused_result [\u001b[01;35m\u001b[K-Wunused-result\u001b[m\u001b[K]\n",
            "             c->WithRank(c->input(0), 3, &dim1)\u001b[01;35m\u001b[K;\u001b[m\u001b[K // batch_size * npoint * 3\n",
            "                                               \u001b[01;35m\u001b[K^\u001b[m\u001b[K\n",
            "In file included from \u001b[01m\u001b[Kmain.cpp:8:0\u001b[m\u001b[K:\n",
            "\u001b[01m\u001b[K/tensorflow-1.15.2/python3.7/tensorflow_core/include/tensorflow/core/framework/shape_inference.h:394:10:\u001b[m\u001b[K \u001b[01;36m\u001b[Knote: \u001b[m\u001b[Kdeclared here\n",
            "   Status \u001b[01;36m\u001b[KWithRank\u001b[m\u001b[K(ShapeHandle shape, int64 rank,\n",
            "          \u001b[01;36m\u001b[K^~~~~~~~\u001b[m\u001b[K\n"
          ]
        }
      ]
    },
    {
      "cell_type": "code",
      "metadata": {
        "colab": {
          "base_uri": "https://localhost:8080/"
        },
        "id": "iJ2bKPJt528a",
        "outputId": "6e97707a-2b85-466f-e533-abeba97b7040"
      },
      "source": [
        "%cd /content/pointSIFT/tf_utils/tf_ops/interpolation\n",
        "!sh /content/pointSIFT/tf_utils/tf_ops/interpolation/tf_interpolate_compile.sh"
      ],
      "execution_count": 10,
      "outputs": [
        {
          "output_type": "stream",
          "name": "stdout",
          "text": [
            "/content/pointSIFT/tf_utils/tf_ops/interpolation\n",
            "\u001b[01m\u001b[Ktf_interpolate.cpp:\u001b[m\u001b[K In lambda function:\n",
            "\u001b[01m\u001b[Ktf_interpolate.cpp:29:44:\u001b[m\u001b[K \u001b[01;35m\u001b[Kwarning: \u001b[m\u001b[Kignoring return value of ‘\u001b[01m\u001b[Ktensorflow::Status tensorflow::shape_inference::InferenceContext::WithRank(tensorflow::shape_inference::ShapeHandle, tensorflow::int64, tensorflow::shape_inference::ShapeHandle*)\u001b[m\u001b[K’, declared with attribute warn_unused_result [\u001b[01;35m\u001b[K-Wunused-result\u001b[m\u001b[K]\n",
            "         c->WithRank(c->input(0), 3, &dims1)\u001b[01;35m\u001b[K;\u001b[m\u001b[K\n",
            "                                            \u001b[01;35m\u001b[K^\u001b[m\u001b[K\n",
            "In file included from \u001b[01m\u001b[Ktf_interpolate.cpp:8:0\u001b[m\u001b[K:\n",
            "\u001b[01m\u001b[K/tensorflow-1.15.2/python3.7/tensorflow_core/include/tensorflow/core/framework/shape_inference.h:394:10:\u001b[m\u001b[K \u001b[01;36m\u001b[Knote: \u001b[m\u001b[Kdeclared here\n",
            "   Status \u001b[01;36m\u001b[KWithRank\u001b[m\u001b[K(ShapeHandle shape, int64 rank,\n",
            "          \u001b[01;36m\u001b[K^~~~~~~~\u001b[m\u001b[K\n",
            "\u001b[01m\u001b[Ktf_interpolate.cpp:31:44:\u001b[m\u001b[K \u001b[01;35m\u001b[Kwarning: \u001b[m\u001b[Kignoring return value of ‘\u001b[01m\u001b[Ktensorflow::Status tensorflow::shape_inference::InferenceContext::WithRank(tensorflow::shape_inference::ShapeHandle, tensorflow::int64, tensorflow::shape_inference::ShapeHandle*)\u001b[m\u001b[K’, declared with attribute warn_unused_result [\u001b[01;35m\u001b[K-Wunused-result\u001b[m\u001b[K]\n",
            "         c->WithRank(c->input(1), 3, &dims2)\u001b[01;35m\u001b[K;\u001b[m\u001b[K\n",
            "                                            \u001b[01;35m\u001b[K^\u001b[m\u001b[K\n",
            "In file included from \u001b[01m\u001b[Ktf_interpolate.cpp:8:0\u001b[m\u001b[K:\n",
            "\u001b[01m\u001b[K/tensorflow-1.15.2/python3.7/tensorflow_core/include/tensorflow/core/framework/shape_inference.h:394:10:\u001b[m\u001b[K \u001b[01;36m\u001b[Knote: \u001b[m\u001b[Kdeclared here\n",
            "   Status \u001b[01;36m\u001b[KWithRank\u001b[m\u001b[K(ShapeHandle shape, int64 rank,\n",
            "          \u001b[01;36m\u001b[K^~~~~~~~\u001b[m\u001b[K\n"
          ]
        }
      ]
    },
    {
      "cell_type": "code",
      "metadata": {
        "id": "zr30KCsH50ps",
        "colab": {
          "base_uri": "https://localhost:8080/"
        },
        "outputId": "fca22c06-db8b-4a21-b6ab-a9ab895f87eb"
      },
      "source": [
        "%cd /content/pointSIFT/tf_utils/tf_ops/grouping/\n",
        "!sh /content/pointSIFT/tf_utils/tf_ops/grouping/tf_grouping_compile.sh"
      ],
      "execution_count": 11,
      "outputs": [
        {
          "output_type": "stream",
          "name": "stdout",
          "text": [
            "/content/pointSIFT/tf_utils/tf_ops/grouping\n",
            "\u001b[01m\u001b[Ktf_grouping.cpp:\u001b[m\u001b[K In lambda function:\n",
            "\u001b[01m\u001b[Ktf_grouping.cpp:22:44:\u001b[m\u001b[K \u001b[01;35m\u001b[Kwarning: \u001b[m\u001b[Kignoring return value of ‘\u001b[01m\u001b[Ktensorflow::Status tensorflow::shape_inference::InferenceContext::WithRank(tensorflow::shape_inference::ShapeHandle, tensorflow::int64, tensorflow::shape_inference::ShapeHandle*)\u001b[m\u001b[K’, declared with attribute warn_unused_result [\u001b[01;35m\u001b[K-Wunused-result\u001b[m\u001b[K]\n",
            "         c->WithRank(c->input(1), 3, &dims2)\u001b[01;35m\u001b[K;\u001b[m\u001b[K\n",
            "                                            \u001b[01;35m\u001b[K^\u001b[m\u001b[K\n",
            "In file included from \u001b[01m\u001b[Ktf_grouping.cpp:8:0\u001b[m\u001b[K:\n",
            "\u001b[01m\u001b[K/tensorflow-1.15.2/python3.7/tensorflow_core/include/tensorflow/core/framework/shape_inference.h:394:10:\u001b[m\u001b[K \u001b[01;36m\u001b[Knote: \u001b[m\u001b[Kdeclared here\n",
            "   Status \u001b[01;36m\u001b[KWithRank\u001b[m\u001b[K(ShapeHandle shape, int64 rank,\n",
            "          \u001b[01;36m\u001b[K^~~~~~~~\u001b[m\u001b[K\n",
            "\u001b[01m\u001b[Ktf_grouping.cpp:\u001b[m\u001b[K In lambda function:\n",
            "\u001b[01m\u001b[Ktf_grouping.cpp:47:44:\u001b[m\u001b[K \u001b[01;35m\u001b[Kwarning: \u001b[m\u001b[Kignoring return value of ‘\u001b[01m\u001b[Ktensorflow::Status tensorflow::shape_inference::InferenceContext::WithRank(tensorflow::shape_inference::ShapeHandle, tensorflow::int64, tensorflow::shape_inference::ShapeHandle*)\u001b[m\u001b[K’, declared with attribute warn_unused_result [\u001b[01;35m\u001b[K-Wunused-result\u001b[m\u001b[K]\n",
            "         c->WithRank(c->input(0), 3, &dims1)\u001b[01;35m\u001b[K;\u001b[m\u001b[K\n",
            "                                            \u001b[01;35m\u001b[K^\u001b[m\u001b[K\n",
            "In file included from \u001b[01m\u001b[Ktf_grouping.cpp:8:0\u001b[m\u001b[K:\n",
            "\u001b[01m\u001b[K/tensorflow-1.15.2/python3.7/tensorflow_core/include/tensorflow/core/framework/shape_inference.h:394:10:\u001b[m\u001b[K \u001b[01;36m\u001b[Knote: \u001b[m\u001b[Kdeclared here\n",
            "   Status \u001b[01;36m\u001b[KWithRank\u001b[m\u001b[K(ShapeHandle shape, int64 rank,\n",
            "          \u001b[01;36m\u001b[K^~~~~~~~\u001b[m\u001b[K\n",
            "\u001b[01m\u001b[Ktf_grouping.cpp:49:44:\u001b[m\u001b[K \u001b[01;35m\u001b[Kwarning: \u001b[m\u001b[Kignoring return value of ‘\u001b[01m\u001b[Ktensorflow::Status tensorflow::shape_inference::InferenceContext::WithRank(tensorflow::shape_inference::ShapeHandle, tensorflow::int64, tensorflow::shape_inference::ShapeHandle*)\u001b[m\u001b[K’, declared with attribute warn_unused_result [\u001b[01;35m\u001b[K-Wunused-result\u001b[m\u001b[K]\n",
            "         c->WithRank(c->input(1), 3, &dims2)\u001b[01;35m\u001b[K;\u001b[m\u001b[K\n",
            "                                            \u001b[01;35m\u001b[K^\u001b[m\u001b[K\n",
            "In file included from \u001b[01m\u001b[Ktf_grouping.cpp:8:0\u001b[m\u001b[K:\n",
            "\u001b[01m\u001b[K/tensorflow-1.15.2/python3.7/tensorflow_core/include/tensorflow/core/framework/shape_inference.h:394:10:\u001b[m\u001b[K \u001b[01;36m\u001b[Knote: \u001b[m\u001b[Kdeclared here\n",
            "   Status \u001b[01;36m\u001b[KWithRank\u001b[m\u001b[K(ShapeHandle shape, int64 rank,\n",
            "          \u001b[01;36m\u001b[K^~~~~~~~\u001b[m\u001b[K\n"
          ]
        }
      ]
    },
    {
      "cell_type": "code",
      "metadata": {
        "id": "KEZAKGc45zAN",
        "colab": {
          "base_uri": "https://localhost:8080/"
        },
        "outputId": "ce8b74c5-ee4c-438f-91ee-aba35d7ed6c5"
      },
      "source": [
        "%cd /content/pointSIFT/tf_utils/tf_ops/sampling\n",
        "!chmod +x tf_sampling_compile.sh\n",
        "!./tf_sampling_compile.sh"
      ],
      "execution_count": 12,
      "outputs": [
        {
          "output_type": "stream",
          "name": "stdout",
          "text": [
            "/content/pointSIFT/tf_utils/tf_ops/sampling\n",
            "\u001b[01m\u001b[Ktf_sampling.cpp:\u001b[m\u001b[K In lambda function:\n",
            "\u001b[01m\u001b[Ktf_sampling.cpp:20:40:\u001b[m\u001b[K \u001b[01;35m\u001b[Kwarning: \u001b[m\u001b[Kignoring return value of ‘\u001b[01m\u001b[Ktensorflow::Status tensorflow::shape_inference::InferenceContext::WithRank(tensorflow::shape_inference::ShapeHandle, tensorflow::int64, tensorflow::shape_inference::ShapeHandle*)\u001b[m\u001b[K’, declared with attribute warn_unused_result [\u001b[01;35m\u001b[K-Wunused-result\u001b[m\u001b[K]\n",
            "     c->WithRank(c->input(0), 2, &dims1)\u001b[01;35m\u001b[K;\u001b[m\u001b[K\n",
            "                                        \u001b[01;35m\u001b[K^\u001b[m\u001b[K\n",
            "In file included from \u001b[01m\u001b[Ktf_sampling.cpp:8:0\u001b[m\u001b[K:\n",
            "\u001b[01m\u001b[K/tensorflow-1.15.2/python3.7/tensorflow_core/include/tensorflow/core/framework/shape_inference.h:394:10:\u001b[m\u001b[K \u001b[01;36m\u001b[Knote: \u001b[m\u001b[Kdeclared here\n",
            "   Status \u001b[01;36m\u001b[KWithRank\u001b[m\u001b[K(ShapeHandle shape, int64 rank,\n",
            "          \u001b[01;36m\u001b[K^~~~~~~~\u001b[m\u001b[K\n",
            "\u001b[01m\u001b[Ktf_sampling.cpp:22:40:\u001b[m\u001b[K \u001b[01;35m\u001b[Kwarning: \u001b[m\u001b[Kignoring return value of ‘\u001b[01m\u001b[Ktensorflow::Status tensorflow::shape_inference::InferenceContext::WithRank(tensorflow::shape_inference::ShapeHandle, tensorflow::int64, tensorflow::shape_inference::ShapeHandle*)\u001b[m\u001b[K’, declared with attribute warn_unused_result [\u001b[01;35m\u001b[K-Wunused-result\u001b[m\u001b[K]\n",
            "     c->WithRank(c->input(1), 2, &dims2)\u001b[01;35m\u001b[K;\u001b[m\u001b[K\n",
            "                                        \u001b[01;35m\u001b[K^\u001b[m\u001b[K\n",
            "In file included from \u001b[01m\u001b[Ktf_sampling.cpp:8:0\u001b[m\u001b[K:\n",
            "\u001b[01m\u001b[K/tensorflow-1.15.2/python3.7/tensorflow_core/include/tensorflow/core/framework/shape_inference.h:394:10:\u001b[m\u001b[K \u001b[01;36m\u001b[Knote: \u001b[m\u001b[Kdeclared here\n",
            "   Status \u001b[01;36m\u001b[KWithRank\u001b[m\u001b[K(ShapeHandle shape, int64 rank,\n",
            "          \u001b[01;36m\u001b[K^~~~~~~~\u001b[m\u001b[K\n",
            "\u001b[01m\u001b[Ktf_sampling.cpp:\u001b[m\u001b[K In lambda function:\n",
            "\u001b[01m\u001b[Ktf_sampling.cpp:34:40:\u001b[m\u001b[K \u001b[01;35m\u001b[Kwarning: \u001b[m\u001b[Kignoring return value of ‘\u001b[01m\u001b[Ktensorflow::Status tensorflow::shape_inference::InferenceContext::WithRank(tensorflow::shape_inference::ShapeHandle, tensorflow::int64, tensorflow::shape_inference::ShapeHandle*)\u001b[m\u001b[K’, declared with attribute warn_unused_result [\u001b[01;35m\u001b[K-Wunused-result\u001b[m\u001b[K]\n",
            "     c->WithRank(c->input(0), 3, &dims1)\u001b[01;35m\u001b[K;\u001b[m\u001b[K\n",
            "                                        \u001b[01;35m\u001b[K^\u001b[m\u001b[K\n",
            "In file included from \u001b[01m\u001b[Ktf_sampling.cpp:8:0\u001b[m\u001b[K:\n",
            "\u001b[01m\u001b[K/tensorflow-1.15.2/python3.7/tensorflow_core/include/tensorflow/core/framework/shape_inference.h:394:10:\u001b[m\u001b[K \u001b[01;36m\u001b[Knote: \u001b[m\u001b[Kdeclared here\n",
            "   Status \u001b[01;36m\u001b[KWithRank\u001b[m\u001b[K(ShapeHandle shape, int64 rank,\n",
            "          \u001b[01;36m\u001b[K^~~~~~~~\u001b[m\u001b[K\n",
            "\u001b[01m\u001b[Ktf_sampling.cpp:\u001b[m\u001b[K In lambda function:\n",
            "\u001b[01m\u001b[Ktf_sampling.cpp:47:40:\u001b[m\u001b[K \u001b[01;35m\u001b[Kwarning: \u001b[m\u001b[Kignoring return value of ‘\u001b[01m\u001b[Ktensorflow::Status tensorflow::shape_inference::InferenceContext::WithRank(tensorflow::shape_inference::ShapeHandle, tensorflow::int64, tensorflow::shape_inference::ShapeHandle*)\u001b[m\u001b[K’, declared with attribute warn_unused_result [\u001b[01;35m\u001b[K-Wunused-result\u001b[m\u001b[K]\n",
            "     c->WithRank(c->input(0), 3, &dims1)\u001b[01;35m\u001b[K;\u001b[m\u001b[K\n",
            "                                        \u001b[01;35m\u001b[K^\u001b[m\u001b[K\n",
            "In file included from \u001b[01m\u001b[Ktf_sampling.cpp:8:0\u001b[m\u001b[K:\n",
            "\u001b[01m\u001b[K/tensorflow-1.15.2/python3.7/tensorflow_core/include/tensorflow/core/framework/shape_inference.h:394:10:\u001b[m\u001b[K \u001b[01;36m\u001b[Knote: \u001b[m\u001b[Kdeclared here\n",
            "   Status \u001b[01;36m\u001b[KWithRank\u001b[m\u001b[K(ShapeHandle shape, int64 rank,\n",
            "          \u001b[01;36m\u001b[K^~~~~~~~\u001b[m\u001b[K\n",
            "\u001b[01m\u001b[Ktf_sampling.cpp:49:40:\u001b[m\u001b[K \u001b[01;35m\u001b[Kwarning: \u001b[m\u001b[Kignoring return value of ‘\u001b[01m\u001b[Ktensorflow::Status tensorflow::shape_inference::InferenceContext::WithRank(tensorflow::shape_inference::ShapeHandle, tensorflow::int64, tensorflow::shape_inference::ShapeHandle*)\u001b[m\u001b[K’, declared with attribute warn_unused_result [\u001b[01;35m\u001b[K-Wunused-result\u001b[m\u001b[K]\n",
            "     c->WithRank(c->input(1), 2, &dims2)\u001b[01;35m\u001b[K;\u001b[m\u001b[K\n",
            "                                        \u001b[01;35m\u001b[K^\u001b[m\u001b[K\n",
            "In file included from \u001b[01m\u001b[Ktf_sampling.cpp:8:0\u001b[m\u001b[K:\n",
            "\u001b[01m\u001b[K/tensorflow-1.15.2/python3.7/tensorflow_core/include/tensorflow/core/framework/shape_inference.h:394:10:\u001b[m\u001b[K \u001b[01;36m\u001b[Knote: \u001b[m\u001b[Kdeclared here\n",
            "   Status \u001b[01;36m\u001b[KWithRank\u001b[m\u001b[K(ShapeHandle shape, int64 rank,\n",
            "          \u001b[01;36m\u001b[K^~~~~~~~\u001b[m\u001b[K\n"
          ]
        }
      ]
    },
    {
      "cell_type": "code",
      "metadata": {
        "colab": {
          "base_uri": "https://localhost:8080/"
        },
        "id": "LqvC6Ci5xq-g",
        "outputId": "12fb111a-668d-48a6-97e7-f16c0b8ff515"
      },
      "source": [
        "%cd /content\n",
        "!wget --no-check-certificate https://shapenet.cs.stanford.edu/media/scannet_data_pointnet2.zip"
      ],
      "execution_count": null,
      "outputs": [
        {
          "output_type": "stream",
          "name": "stdout",
          "text": [
            "/content\n",
            "--2021-11-03 01:59:30--  https://shapenet.cs.stanford.edu/media/scannet_data_pointnet2.zip\n",
            "Resolving shapenet.cs.stanford.edu (shapenet.cs.stanford.edu)... 171.67.77.19\n",
            "Connecting to shapenet.cs.stanford.edu (shapenet.cs.stanford.edu)|171.67.77.19|:443... connected.\n",
            "WARNING: cannot verify shapenet.cs.stanford.edu's certificate, issued by ‘CN=InCommon RSA Server CA,OU=InCommon,O=Internet2,L=Ann Arbor,ST=MI,C=US’:\n",
            "  Issued certificate has expired.\n",
            "HTTP request sent, awaiting response... 200 OK\n",
            "Length: 1846238043 (1.7G) [application/zip]\n",
            "Saving to: ‘scannet_data_pointnet2.zip’\n",
            "\n",
            "scannet_data_pointn 100%[===================>]   1.72G   542KB/s    in 49m 48s \n",
            "\n",
            "2021-11-03 02:49:18 (603 KB/s) - ‘scannet_data_pointnet2.zip’ saved [1846238043/1846238043]\n",
            "\n"
          ]
        }
      ]
    },
    {
      "cell_type": "code",
      "metadata": {
        "colab": {
          "base_uri": "https://localhost:8080/"
        },
        "id": "BJoCrWfWzJYb",
        "outputId": "4e73f2d8-44d1-4940-bea2-8c7a81954e21"
      },
      "source": [
        "%cd /content/pointSIFT/\n",
        "!unzip /content/scannet_data_pointnet2.zip"
      ],
      "execution_count": null,
      "outputs": [
        {
          "output_type": "stream",
          "name": "stdout",
          "text": [
            "/content/pointSIFT\n",
            "Archive:  /content/scannet_data_pointnet2.zip\n",
            "   creating: data/\n",
            "  inflating: data/scannet_train.pickle  \n",
            "  inflating: data/scannet_test.pickle  \n"
          ]
        }
      ]
    },
    {
      "cell_type": "code",
      "metadata": {
        "colab": {
          "base_uri": "https://localhost:8080/"
        },
        "id": "j845ET9VzOLx",
        "outputId": "d42c6c2a-91bb-4a4a-a675-ed92f2f156d8"
      },
      "source": [
        "%cd /content/pointSIFT\n",
        "!python train_and_eval_scannet.py --batch_size 8"
      ],
      "execution_count": null,
      "outputs": [
        {
          "output_type": "stream",
          "name": "stdout",
          "text": [
            "/content/pointSIFT\n",
            "train size 1201 and test size 312\n",
            "WARNING:tensorflow:From /content/pointSIFT/models/pointSIFT_pointnet.py:10: The name tf.placeholder is deprecated. Please use tf.compat.v1.placeholder instead.\n",
            "\n",
            "WARNING:tensorflow:From train_and_eval_scannet.py:164: The name tf.train.AdamOptimizer is deprecated. Please use tf.compat.v1.train.AdamOptimizer instead.\n",
            "\n",
            "WARNING:tensorflow:From train_and_eval_scannet.py:94: The name tf.train.exponential_decay is deprecated. Please use tf.compat.v1.train.exponential_decay instead.\n",
            "\n",
            "WARNING:tensorflow:From train_and_eval_scannet.py:100: The name tf.summary.scalar is deprecated. Please use tf.compat.v1.summary.scalar instead.\n",
            "\n",
            "WARNING:tensorflow:From /content/pointSIFT/tf_utils/pointSIFT_util.py:98: The name tf.variable_scope is deprecated. Please use tf.compat.v1.variable_scope instead.\n",
            "\n",
            "WARNING:tensorflow:\n",
            "The TensorFlow contrib module will not be included in TensorFlow 2.0.\n",
            "For more information, please see:\n",
            "  * https://github.com/tensorflow/community/blob/master/rfcs/20180907-contrib-sunset.md\n",
            "  * https://github.com/tensorflow/addons\n",
            "  * https://github.com/tensorflow/io (for I/O related ops)\n",
            "If you depend on functionality not listed there, please file an issue.\n",
            "\n",
            "WARNING:tensorflow:From /content/pointSIFT/tf_utils/tf_util.py:21: The name tf.get_variable is deprecated. Please use tf.compat.v1.get_variable instead.\n",
            "\n",
            "WARNING:tensorflow:From /content/pointSIFT/tf_utils/pointSIFT_util.py:252: calling reduce_max_v1 (from tensorflow.python.ops.math_ops) with keep_dims is deprecated and will be removed in a future version.\n",
            "Instructions for updating:\n",
            "keep_dims is deprecated, use keepdims instead\n",
            "WARNING:tensorflow:From /tensorflow-1.15.2/python3.7/tensorflow_core/python/util/deprecation.py:574: calling conv1d (from tensorflow.python.ops.nn_ops) with data_format=NHWC is deprecated and will be removed in a future version.\n",
            "Instructions for updating:\n",
            "`NHWC` for data_format is deprecated, use `NWC` instead\n",
            "WARNING:tensorflow:From /content/pointSIFT/tf_utils/pointSIFT_util.py:341: calling reduce_sum_v1 (from tensorflow.python.ops.math_ops) with keep_dims is deprecated and will be removed in a future version.\n",
            "Instructions for updating:\n",
            "keep_dims is deprecated, use keepdims instead\n",
            "WARNING:tensorflow:From /content/pointSIFT/tf_utils/tf_util.py:613: calling dropout (from tensorflow.python.ops.nn_ops) with keep_prob is deprecated and will be removed in a future version.\n",
            "Instructions for updating:\n",
            "Please use `rate` instead of `keep_prob`. Rate should be set to `rate = 1 - keep_prob`.\n",
            "WARNING:tensorflow:From train_and_eval_scannet.py:197: The name tf.get_variable_scope is deprecated. Please use tf.compat.v1.get_variable_scope instead.\n",
            "\n",
            "build graph in gpu 0\n",
            "WARNING:tensorflow:From /content/pointSIFT/models/pointSIFT_pointnet.py:72: The name tf.losses.sparse_softmax_cross_entropy is deprecated. Please use tf.compat.v1.losses.sparse_softmax_cross_entropy instead.\n",
            "\n",
            "WARNING:tensorflow:From /tensorflow-1.15.2/python3.7/tensorflow_core/python/ops/losses/losses_impl.py:121: where (from tensorflow.python.ops.array_ops) is deprecated and will be removed in a future version.\n",
            "Instructions for updating:\n",
            "Use tf.where in 2.0, which has the same broadcast rule as np.where\n",
            "WARNING:tensorflow:From /content/pointSIFT/models/pointSIFT_pointnet.py:74: The name tf.add_to_collection is deprecated. Please use tf.compat.v1.add_to_collection instead.\n",
            "\n",
            "WARNING:tensorflow:From train_and_eval_scannet.py:179: The name tf.get_collection is deprecated. Please use tf.compat.v1.get_collection instead.\n",
            "\n",
            "WARNING:tensorflow:From train_and_eval_scannet.py:216: The name tf.summary.merge_all is deprecated. Please use tf.compat.v1.summary.merge_all instead.\n",
            "\n",
            "WARNING:tensorflow:From train_and_eval_scannet.py:218: The name tf.train.Saver is deprecated. Please use tf.compat.v1.train.Saver instead.\n",
            "\n",
            "WARNING:tensorflow:From train_and_eval_scannet.py:221: The name tf.ConfigProto is deprecated. Please use tf.compat.v1.ConfigProto instead.\n",
            "\n",
            "WARNING:tensorflow:From train_and_eval_scannet.py:226: The name tf.Session is deprecated. Please use tf.compat.v1.Session instead.\n",
            "\n",
            "2021-11-03 03:02:46.702606: I tensorflow/core/platform/profile_utils/cpu_utils.cc:94] CPU Frequency: 2299995000 Hz\n",
            "2021-11-03 03:02:46.704836: I tensorflow/compiler/xla/service/service.cc:168] XLA service 0x560f203f4840 initialized for platform Host (this does not guarantee that XLA will be used). Devices:\n",
            "2021-11-03 03:02:46.704873: I tensorflow/compiler/xla/service/service.cc:176]   StreamExecutor device (0): Host, Default Version\n",
            "2021-11-03 03:02:46.761618: I tensorflow/stream_executor/platform/default/dso_loader.cc:44] Successfully opened dynamic library libcuda.so.1\n",
            "2021-11-03 03:02:46.974400: I tensorflow/stream_executor/cuda/cuda_gpu_executor.cc:983] successful NUMA node read from SysFS had negative value (-1), but there must be at least one NUMA node, so returning NUMA node zero\n",
            "2021-11-03 03:02:46.975314: I tensorflow/compiler/xla/service/service.cc:168] XLA service 0x560f203f52c0 initialized for platform CUDA (this does not guarantee that XLA will be used). Devices:\n",
            "2021-11-03 03:02:46.975351: I tensorflow/compiler/xla/service/service.cc:176]   StreamExecutor device (0): Tesla K80, Compute Capability 3.7\n",
            "2021-11-03 03:02:46.975731: I tensorflow/stream_executor/cuda/cuda_gpu_executor.cc:983] successful NUMA node read from SysFS had negative value (-1), but there must be at least one NUMA node, so returning NUMA node zero\n",
            "2021-11-03 03:02:46.976454: I tensorflow/core/common_runtime/gpu/gpu_device.cc:1639] Found device 0 with properties: \n",
            "name: Tesla K80 major: 3 minor: 7 memoryClockRate(GHz): 0.8235\n",
            "pciBusID: 0000:00:04.0\n",
            "2021-11-03 03:02:46.983310: I tensorflow/stream_executor/platform/default/dso_loader.cc:44] Successfully opened dynamic library libcudart.so.10.1\n",
            "2021-11-03 03:02:47.178342: I tensorflow/stream_executor/platform/default/dso_loader.cc:44] Successfully opened dynamic library libcublas.so.10\n",
            "2021-11-03 03:02:47.203608: I tensorflow/stream_executor/platform/default/dso_loader.cc:44] Successfully opened dynamic library libcufft.so.10\n",
            "2021-11-03 03:02:47.262938: I tensorflow/stream_executor/platform/default/dso_loader.cc:44] Successfully opened dynamic library libcurand.so.10\n",
            "2021-11-03 03:02:47.487159: I tensorflow/stream_executor/platform/default/dso_loader.cc:44] Successfully opened dynamic library libcusolver.so.10\n",
            "2021-11-03 03:02:47.521078: I tensorflow/stream_executor/platform/default/dso_loader.cc:44] Successfully opened dynamic library libcusparse.so.10\n",
            "2021-11-03 03:02:47.987856: I tensorflow/stream_executor/platform/default/dso_loader.cc:44] Successfully opened dynamic library libcudnn.so.7\n",
            "2021-11-03 03:02:47.988116: I tensorflow/stream_executor/cuda/cuda_gpu_executor.cc:983] successful NUMA node read from SysFS had negative value (-1), but there must be at least one NUMA node, so returning NUMA node zero\n",
            "2021-11-03 03:02:47.989027: I tensorflow/stream_executor/cuda/cuda_gpu_executor.cc:983] successful NUMA node read from SysFS had negative value (-1), but there must be at least one NUMA node, so returning NUMA node zero\n",
            "2021-11-03 03:02:47.989755: I tensorflow/core/common_runtime/gpu/gpu_device.cc:1767] Adding visible gpu devices: 0\n",
            "2021-11-03 03:02:47.990029: I tensorflow/stream_executor/platform/default/dso_loader.cc:44] Successfully opened dynamic library libcudart.so.10.1\n",
            "2021-11-03 03:02:47.991877: I tensorflow/core/common_runtime/gpu/gpu_device.cc:1180] Device interconnect StreamExecutor with strength 1 edge matrix:\n",
            "2021-11-03 03:02:47.991915: I tensorflow/core/common_runtime/gpu/gpu_device.cc:1186]      0 \n",
            "2021-11-03 03:02:47.991945: I tensorflow/core/common_runtime/gpu/gpu_device.cc:1199] 0:   N \n",
            "2021-11-03 03:02:47.992562: I tensorflow/stream_executor/cuda/cuda_gpu_executor.cc:983] successful NUMA node read from SysFS had negative value (-1), but there must be at least one NUMA node, so returning NUMA node zero\n",
            "2021-11-03 03:02:47.993393: I tensorflow/stream_executor/cuda/cuda_gpu_executor.cc:983] successful NUMA node read from SysFS had negative value (-1), but there must be at least one NUMA node, so returning NUMA node zero\n",
            "2021-11-03 03:02:47.996088: I tensorflow/core/common_runtime/gpu/gpu_device.cc:1325] Created TensorFlow device (/job:localhost/replica:0/task:0/device:GPU:0 with 10813 MB memory) -> physical GPU (device: 0, name: Tesla K80, pci bus id: 0000:00:04.0, compute capability: 3.7)\n",
            "WARNING:tensorflow:From train_and_eval_scannet.py:227: The name tf.summary.FileWriter is deprecated. Please use tf.compat.v1.summary.FileWriter instead.\n",
            "\n",
            "WARNING:tensorflow:From train_and_eval_scannet.py:229: The name tf.global_variables_initializer is deprecated. Please use tf.compat.v1.global_variables_initializer instead.\n",
            "\n",
            "2021-11-03 03:02:57.247497: W tensorflow/core/framework/cpu_allocator_impl.cc:81] Allocation of 16777216 exceeds 10% of system memory.\n",
            "2021-11-03 03:02:57.281148: W tensorflow/core/framework/cpu_allocator_impl.cc:81] Allocation of 16777216 exceeds 10% of system memory.\n",
            "2021-11-03 03:02:57.297586: W tensorflow/core/framework/cpu_allocator_impl.cc:81] Allocation of 16777216 exceeds 10% of system memory.\n",
            "2021-11-03 03:02:57.313636: W tensorflow/core/framework/cpu_allocator_impl.cc:81] Allocation of 16777216 exceeds 10% of system memory.\n",
            "2021-11-03 03:02:57.330606: W tensorflow/core/framework/cpu_allocator_impl.cc:81] Allocation of 16777216 exceeds 10% of system memory.\n",
            "2021-11-03 03:03:29.105629: I tensorflow/stream_executor/platform/default/dso_loader.cc:44] Successfully opened dynamic library libcudnn.so.7\n",
            "2021-11-03 03:03:35.225050: I tensorflow/stream_executor/platform/default/dso_loader.cc:44] Successfully opened dynamic library libcublas.so.10\n",
            "epoch 1 , loss is 16.904939 take 320.285 s\n",
            "epoch 2 , loss is 14.630943 take 280.282 s\n"
          ]
        }
      ]
    },
    {
      "cell_type": "code",
      "metadata": {
        "id": "imUNmONK_VC_",
        "colab": {
          "base_uri": "https://localhost:8080/"
        },
        "outputId": "78bce2e1-51bc-4cc5-845b-9f1bb1b3b808"
      },
      "source": [
        "%cd /content\n",
        "!tar -zcvf pointSIFT.tar.gz --exclude=pointSIFT/data pointSIFT"
      ],
      "execution_count": null,
      "outputs": [
        {
          "output_type": "stream",
          "name": "stdout",
          "text": [
            "/content\n",
            "pointSIFT/\n",
            "pointSIFT/test.py\n",
            "pointSIFT/train_and_eval_scannet.py\n",
            "pointSIFT/README.md\n",
            "pointSIFT/.git/\n",
            "pointSIFT/.git/packed-refs\n",
            "pointSIFT/.git/branches/\n",
            "pointSIFT/.git/refs/\n",
            "pointSIFT/.git/refs/tags/\n",
            "pointSIFT/.git/refs/heads/\n",
            "pointSIFT/.git/refs/heads/master\n",
            "pointSIFT/.git/refs/remotes/\n",
            "pointSIFT/.git/refs/remotes/origin/\n",
            "pointSIFT/.git/refs/remotes/origin/HEAD\n",
            "pointSIFT/.git/objects/\n",
            "pointSIFT/.git/objects/47/\n",
            "pointSIFT/.git/objects/47/7fb3bc4f20e0def435a2baaf443010e568e440\n",
            "pointSIFT/.git/objects/25/\n",
            "pointSIFT/.git/objects/25/493d8e3f836918e80bb073604813bcd3426155\n",
            "pointSIFT/.git/objects/5e/\n",
            "pointSIFT/.git/objects/5e/23cc9ea138e73dcba8645d58e983533c4f3ec1\n",
            "pointSIFT/.git/objects/18/\n",
            "pointSIFT/.git/objects/18/de51f9cbf5f702e9b95be718340e338a5e3904\n",
            "pointSIFT/.git/objects/de/\n",
            "pointSIFT/.git/objects/de/1ef64586d9e0e1f1d04df440a4f39ca7f2dd41\n",
            "pointSIFT/.git/objects/4e/\n",
            "pointSIFT/.git/objects/4e/28051300703e7a436aa13619936039fcd06033\n",
            "pointSIFT/.git/objects/09/\n",
            "pointSIFT/.git/objects/09/2d2bb7f3d9f8529bdac92945a76fddc9800986\n",
            "pointSIFT/.git/objects/c5/\n",
            "pointSIFT/.git/objects/c5/385c30729731a0ebc5ce6d4fac6b42fba42ef2\n",
            "pointSIFT/.git/objects/1c/\n",
            "pointSIFT/.git/objects/1c/844ea1c1824c5b43ec011c838fd4b55905b096\n",
            "pointSIFT/.git/objects/c7/\n",
            "pointSIFT/.git/objects/c7/ca54505589a2d10b068d7364b561b4619ef8fd\n",
            "pointSIFT/.git/objects/6f/\n",
            "pointSIFT/.git/objects/6f/0839edcdd9dda363c0308903486e1a7c03d41a\n",
            "pointSIFT/.git/objects/7d/\n",
            "pointSIFT/.git/objects/7d/2988f211ff8e2fa692b3c1f80d86989f10c716\n",
            "pointSIFT/.git/objects/2f/\n",
            "pointSIFT/.git/objects/2f/08276060038482fce8e43233c26760b0032b46\n",
            "pointSIFT/.git/objects/eb/\n",
            "pointSIFT/.git/objects/eb/7c6074bb166da15e00fd18864ceb4d9f0a6253\n",
            "pointSIFT/.git/objects/14/\n",
            "pointSIFT/.git/objects/14/cce86eae3a14cc4394f047ac82c4e578a16afc\n",
            "pointSIFT/.git/objects/39/\n",
            "pointSIFT/.git/objects/39/63e7801426c9c18c16c889a2433459a43cdd4c\n",
            "pointSIFT/.git/objects/39/997588d6294f67076d966f89c6b4adf47de862\n",
            "pointSIFT/.git/objects/8d/\n",
            "pointSIFT/.git/objects/8d/e184692c155919f16ba648b0a9feb1d72c52c0\n",
            "pointSIFT/.git/objects/57/\n",
            "pointSIFT/.git/objects/57/8330d25d90fecbda814c118ae8d17ea5520caa\n",
            "pointSIFT/.git/objects/35/\n",
            "pointSIFT/.git/objects/35/b636af85b2fb09f275f1184895c98348e97271\n",
            "pointSIFT/.git/objects/b7/\n",
            "pointSIFT/.git/objects/b7/d0dd022860ed87378d8a8ac35c3005cb165d50\n",
            "pointSIFT/.git/objects/cc/\n",
            "pointSIFT/.git/objects/cc/18c4c9f2fa8c2cbba3b003aabfa1e631131dc8\n",
            "pointSIFT/.git/objects/01/\n",
            "pointSIFT/.git/objects/01/23962b2f7712ec8bff109e5967d35a75d1fe76\n",
            "pointSIFT/.git/objects/96/\n",
            "pointSIFT/.git/objects/96/66849efcb5325acddb9588595385b4d77dd060\n",
            "pointSIFT/.git/objects/c1/\n",
            "pointSIFT/.git/objects/c1/8bcc6b3df6d3de7880e90be74d8cac9f428bb9\n",
            "pointSIFT/.git/objects/fb/\n",
            "pointSIFT/.git/objects/fb/3dd28f4b1462234a85b4b0906b89b558257fd3\n",
            "pointSIFT/.git/objects/30/\n",
            "pointSIFT/.git/objects/30/e5ac098e00f6edb39cf8ffbd38704ae8c3c4bf\n",
            "pointSIFT/.git/objects/30/8eca6676a69abdd4cba3117e406d7af7a1f9f0\n",
            "pointSIFT/.git/objects/2c/\n",
            "pointSIFT/.git/objects/2c/32e11c70c2a91184336957d1c7ce420a112738\n",
            "pointSIFT/.git/objects/3b/\n",
            "pointSIFT/.git/objects/3b/52ed29a361517c043d75eeda661ed83f9bb026\n",
            "pointSIFT/.git/objects/9d/\n",
            "pointSIFT/.git/objects/9d/22eb46a9c8ce7e6f0d17b751d0e192ed89fefe\n",
            "pointSIFT/.git/objects/ae/\n",
            "pointSIFT/.git/objects/ae/b830b373d1850c2e60438581ff97c798ccc0d1\n",
            "pointSIFT/.git/objects/48/\n",
            "pointSIFT/.git/objects/48/324b80a30d56c2fc33d37c698240cafa66910f\n",
            "pointSIFT/.git/objects/36/\n",
            "pointSIFT/.git/objects/36/9bdc813099e38f8f9715e890d53074d2216b91\n",
            "pointSIFT/.git/objects/89/\n",
            "pointSIFT/.git/objects/89/ecd1021a4186b6b17b561087b3ec89d85cd05b\n",
            "pointSIFT/.git/objects/7f/\n",
            "pointSIFT/.git/objects/7f/24b2516c520683b3688ba2450ab91b069cd54f\n",
            "pointSIFT/.git/objects/b1/\n",
            "pointSIFT/.git/objects/b1/c244f85879be03faa901cd6b9757d3dcbf2296\n",
            "pointSIFT/.git/objects/ff/\n",
            "pointSIFT/.git/objects/ff/504d0f3554d22a88d66d997d16f54fd89d7b0d\n",
            "pointSIFT/.git/objects/info/\n",
            "pointSIFT/.git/objects/d5/\n",
            "pointSIFT/.git/objects/d5/02fc729f264abfaa6d1bad88acd3e8122e58b2\n",
            "pointSIFT/.git/objects/dc/\n",
            "pointSIFT/.git/objects/dc/fadba399078d8441b94f2774e76ab039fa3115\n",
            "pointSIFT/.git/objects/f0/\n",
            "pointSIFT/.git/objects/f0/4a6d857c7b7a5a340c2bc3780dc566dc305e1f\n",
            "pointSIFT/.git/objects/93/\n",
            "pointSIFT/.git/objects/93/791d6e759c9a22e957678abdcdbb1e4f3d8a05\n",
            "pointSIFT/.git/objects/93/811c853723f08412d254d1f3e5ef0283d6903a\n",
            "pointSIFT/.git/objects/0c/\n",
            "pointSIFT/.git/objects/0c/13a5e1fcd8b97ac2f3db5c60a2805d2262d2da\n",
            "pointSIFT/.git/objects/4f/\n",
            "pointSIFT/.git/objects/4f/30a3eb7ac8561e2e940746d13895e34e6fadcb\n",
            "pointSIFT/.git/objects/33/\n",
            "pointSIFT/.git/objects/33/e495074f5597ce081b9545191f5e0aa7aa89d0\n",
            "pointSIFT/.git/objects/f9/\n",
            "pointSIFT/.git/objects/f9/50d4515b034a1675ee4f4f12d029c593159f5d\n",
            "pointSIFT/.git/objects/f9/09cf4d434b280b116183ca0224039be0eefee8\n",
            "pointSIFT/.git/objects/6a/\n",
            "pointSIFT/.git/objects/6a/a657a1844f49fade9f9bd51eef75d08af20e3e\n",
            "pointSIFT/.git/objects/b8/\n",
            "pointSIFT/.git/objects/b8/a488cad7ce8d5e6c37a5d068c058ba773f2a88\n",
            "pointSIFT/.git/objects/84/\n",
            "pointSIFT/.git/objects/84/131413cbe50332cc8513f086e4c5666c31287c\n",
            "pointSIFT/.git/objects/e1/\n",
            "pointSIFT/.git/objects/e1/824dd341b2917b4328327808ee08231b20d8a0\n",
            "pointSIFT/.git/objects/9f/\n",
            "pointSIFT/.git/objects/9f/2ce769b6738607bd6e3966b6e55262e46bdc8a\n",
            "pointSIFT/.git/objects/5b/\n",
            "pointSIFT/.git/objects/5b/5836e01daeb3de120dc8199cceacf3cad35870\n",
            "pointSIFT/.git/objects/78/\n",
            "pointSIFT/.git/objects/78/0efb1413f019d7ff2b27c817e9e7935fdac5da\n",
            "pointSIFT/.git/objects/78/1dadc9de406f31fde7fa05a3554f0831a20050\n",
            "pointSIFT/.git/objects/pack/\n",
            "pointSIFT/.git/objects/c2/\n",
            "pointSIFT/.git/objects/c2/bf568e58ee4f5c1b5c4d77cb525f8c9db6b427\n",
            "pointSIFT/.git/objects/8b/\n",
            "pointSIFT/.git/objects/8b/137891791fe96927ad78e64b0aad7bded08bdc\n",
            "pointSIFT/.git/objects/cb/\n",
            "pointSIFT/.git/objects/cb/14a91ca2644f393645e37aa1ad9010e38bd1a5\n",
            "pointSIFT/.git/objects/a1/\n",
            "pointSIFT/.git/objects/a1/45d5abf4ab86a896de96f890e578b5dc2e6847\n",
            "pointSIFT/.git/objects/a1/7104721aa2847f8f626f66b1b97795e6e5c697\n",
            "pointSIFT/.git/objects/4a/\n",
            "pointSIFT/.git/objects/4a/8ffb70cefd433a7ab73debe1cbdaab3b11de0c\n",
            "pointSIFT/.git/objects/4a/4c45be9188db9a9e40126b583a71f72ba53c29\n",
            "pointSIFT/.git/objects/6e/\n",
            "pointSIFT/.git/objects/6e/28bc7f4d29686679f7d08fd8606e30a92c3fc2\n",
            "pointSIFT/.git/objects/29/\n",
            "pointSIFT/.git/objects/29/b3a6a32219f6c8a0bb83b56a467b22775bed74\n",
            "pointSIFT/.git/description\n",
            "pointSIFT/.git/config\n",
            "pointSIFT/.git/index\n",
            "pointSIFT/.git/logs/\n",
            "pointSIFT/.git/logs/refs/\n",
            "pointSIFT/.git/logs/refs/heads/\n",
            "pointSIFT/.git/logs/refs/heads/master\n",
            "pointSIFT/.git/logs/refs/remotes/\n",
            "pointSIFT/.git/logs/refs/remotes/origin/\n",
            "pointSIFT/.git/logs/refs/remotes/origin/HEAD\n",
            "pointSIFT/.git/logs/HEAD\n",
            "pointSIFT/.git/hooks/\n",
            "pointSIFT/.git/hooks/post-update.sample\n",
            "pointSIFT/.git/hooks/pre-receive.sample\n",
            "pointSIFT/.git/hooks/pre-commit.sample\n",
            "pointSIFT/.git/hooks/applypatch-msg.sample\n",
            "pointSIFT/.git/hooks/pre-applypatch.sample\n",
            "pointSIFT/.git/hooks/update.sample\n",
            "pointSIFT/.git/hooks/commit-msg.sample\n",
            "pointSIFT/.git/hooks/pre-rebase.sample\n",
            "pointSIFT/.git/hooks/prepare-commit-msg.sample\n",
            "pointSIFT/.git/hooks/fsmonitor-watchman.sample\n",
            "pointSIFT/.git/hooks/pre-push.sample\n",
            "pointSIFT/.git/info/\n",
            "pointSIFT/.git/info/exclude\n",
            "pointSIFT/.git/HEAD\n",
            "pointSIFT/tf_utils/\n",
            "pointSIFT/tf_utils/provider.py\n",
            "pointSIFT/tf_utils/__pycache__/\n",
            "pointSIFT/tf_utils/__pycache__/tf_util.cpython-37.pyc\n",
            "pointSIFT/tf_utils/__pycache__/pointSIFT_util.cpython-37.pyc\n",
            "pointSIFT/tf_utils/__pycache__/provider.cpython-37.pyc\n",
            "pointSIFT/tf_utils/tf_ops/\n",
            "pointSIFT/tf_utils/tf_ops/pointSIFT_op/\n",
            "pointSIFT/tf_utils/tf_ops/pointSIFT_op/pointSIFT_g.cu.o\n",
            "pointSIFT/tf_utils/tf_ops/pointSIFT_op/tf_pointSIFT_compile.sh\n",
            "pointSIFT/tf_utils/tf_ops/pointSIFT_op/tf_pointSIFT_so.so\n",
            "pointSIFT/tf_utils/tf_ops/pointSIFT_op/main.cpp\n",
            "pointSIFT/tf_utils/tf_ops/pointSIFT_op/__pycache__/\n",
            "pointSIFT/tf_utils/tf_ops/pointSIFT_op/__pycache__/pointSIFT_op.cpython-37.pyc\n",
            "pointSIFT/tf_utils/tf_ops/pointSIFT_op/pointSIFT.cu\n",
            "pointSIFT/tf_utils/tf_ops/pointSIFT_op/pointSIFT_op.py\n",
            "pointSIFT/tf_utils/tf_ops/interpolation/\n",
            "pointSIFT/tf_utils/tf_ops/interpolation/interpolate.cpp\n",
            "pointSIFT/tf_utils/tf_ops/interpolation/tf_interpolate.cpp\n",
            "pointSIFT/tf_utils/tf_ops/interpolation/visu_interpolation.py\n",
            "pointSIFT/tf_utils/tf_ops/interpolation/tf_interpolate_compile.sh\n",
            "pointSIFT/tf_utils/tf_ops/interpolation/tf_interpolate_op_test.py\n",
            "pointSIFT/tf_utils/tf_ops/interpolation/tf_interpolate_so.so\n",
            "pointSIFT/tf_utils/tf_ops/interpolation/__pycache__/\n",
            "pointSIFT/tf_utils/tf_ops/interpolation/__pycache__/tf_interpolate.cpython-37.pyc\n",
            "pointSIFT/tf_utils/tf_ops/interpolation/tf_interpolate.py\n",
            "pointSIFT/tf_utils/tf_ops/sampling/\n",
            "pointSIFT/tf_utils/tf_ops/sampling/tf_sampling_so.so\n",
            "pointSIFT/tf_utils/tf_ops/sampling/tf_sampling.cpp\n",
            "pointSIFT/tf_utils/tf_ops/sampling/tf_sampling.py\n",
            "pointSIFT/tf_utils/tf_ops/sampling/tf_sampling_compile.sh\n",
            "pointSIFT/tf_utils/tf_ops/sampling/.gitignore\n",
            "pointSIFT/tf_utils/tf_ops/sampling/tf_sampling_g.cu.o\n",
            "pointSIFT/tf_utils/tf_ops/sampling/__pycache__/\n",
            "pointSIFT/tf_utils/tf_ops/sampling/__pycache__/tf_sampling.cpython-37.pyc\n",
            "pointSIFT/tf_utils/tf_ops/sampling/tf_sampling_g.cu\n",
            "pointSIFT/tf_utils/tf_ops/grouping/\n",
            "pointSIFT/tf_utils/tf_ops/grouping/tf_grouping_so.so\n",
            "pointSIFT/tf_utils/tf_ops/grouping/tf_grouping_compile.sh\n",
            "pointSIFT/tf_utils/tf_ops/grouping/tf_grouping.py\n",
            "pointSIFT/tf_utils/tf_ops/grouping/tf_grouping.cpp\n",
            "pointSIFT/tf_utils/tf_ops/grouping/.gitignore\n",
            "pointSIFT/tf_utils/tf_ops/grouping/test/\n",
            "pointSIFT/tf_utils/tf_ops/grouping/test/query_ball_point_grid.cu\n",
            "pointSIFT/tf_utils/tf_ops/grouping/test/query_ball_point_block.cu\n",
            "pointSIFT/tf_utils/tf_ops/grouping/test/selection_sort.cpp\n",
            "pointSIFT/tf_utils/tf_ops/grouping/test/selection_sort.cu\n",
            "pointSIFT/tf_utils/tf_ops/grouping/test/compile.sh\n",
            "pointSIFT/tf_utils/tf_ops/grouping/test/query_ball_point.cu\n",
            "pointSIFT/tf_utils/tf_ops/grouping/test/query_ball_point.cpp\n",
            "pointSIFT/tf_utils/tf_ops/grouping/test/selection_sort_const.cu\n",
            "pointSIFT/tf_utils/tf_ops/grouping/tf_grouping_g.cu.o\n",
            "pointSIFT/tf_utils/tf_ops/grouping/tf_grouping_g.cu\n",
            "pointSIFT/tf_utils/tf_ops/grouping/__pycache__/\n",
            "pointSIFT/tf_utils/tf_ops/grouping/__pycache__/tf_grouping.cpython-37.pyc\n",
            "pointSIFT/tf_utils/tf_ops/grouping/tf_grouping_op_test.py\n",
            "pointSIFT/tf_utils/pointSIFT_util.py\n",
            "pointSIFT/tf_utils/tf_util.py\n",
            "pointSIFT/img/\n",
            "pointSIFT/img/fig1.png\n",
            "pointSIFT/__pycache__/\n",
            "pointSIFT/__pycache__/scannet_dataset.cpython-37.pyc\n",
            "pointSIFT/models/\n",
            "pointSIFT/models/pointSIFT_pointnet.py\n",
            "pointSIFT/models/__pycache__/\n",
            "pointSIFT/models/__pycache__/pointSIFT_pointnet.cpython-37.pyc\n",
            "pointSIFT/scannet_dataset.py\n",
            "pointSIFT/pointSIFT.tar.gz\n"
          ]
        }
      ]
    }
  ]
}